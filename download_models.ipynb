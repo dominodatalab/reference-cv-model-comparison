{
 "cells": [
  {
   "cell_type": "code",
   "execution_count": null,
   "id": "ca213e16-928b-401f-a641-dfd550526cb6",
   "metadata": {
    "tags": []
   },
   "outputs": [],
   "source": [
    "!pip install ultralytics"
   ]
  },
  {
   "cell_type": "code",
   "execution_count": 2,
   "id": "1ce2df96-bb89-4a05-a0bd-a5df6fce696a",
   "metadata": {
    "tags": []
   },
   "outputs": [
    {
     "name": "stdout",
     "output_type": "stream",
     "text": [
      "Found existing installation: opencv-python 4.12.0.88\n",
      "Uninstalling opencv-python-4.12.0.88:\n",
      "  Successfully uninstalled opencv-python-4.12.0.88\n",
      "\u001b[33mWARNING: Skipping opencv-contrib-python as it is not installed.\u001b[0m\u001b[33m\n",
      "\u001b[0mFound existing installation: opencv-python-headless 4.12.0.88\n",
      "Uninstalling opencv-python-headless-4.12.0.88:\n",
      "  Successfully uninstalled opencv-python-headless-4.12.0.88\n"
     ]
    }
   ],
   "source": [
    "!pip uninstall -y opencv-python opencv-contrib-python opencv-python-headless"
   ]
  },
  {
   "cell_type": "code",
   "execution_count": 8,
   "id": "317dafc8-1c89-4ba1-ac6a-f09752c1e2f7",
   "metadata": {},
   "outputs": [
    {
     "name": "stdout",
     "output_type": "stream",
     "text": [
      "Defaulting to user installation because normal site-packages is not writeable\n",
      "Looking in indexes: https://pypi.org/simple, https://pypi.ngc.nvidia.com\n",
      "Requirement already satisfied: pycocotools in /usr/local/lib/python3.8/dist-packages (2.0+nv0.7.1)\n",
      "Requirement already satisfied: setuptools>=18.0 in /usr/local/lib/python3.8/dist-packages (from pycocotools) (68.2.2)\n",
      "Requirement already satisfied: cython>=0.27.3 in /usr/local/lib/python3.8/dist-packages (from pycocotools) (0.29.32)\n",
      "Requirement already satisfied: matplotlib>=2.1.0 in /usr/local/lib/python3.8/dist-packages (from pycocotools) (3.6.2)\n",
      "Requirement already satisfied: contourpy>=1.0.1 in /usr/local/lib/python3.8/dist-packages (from matplotlib>=2.1.0->pycocotools) (1.0.6)\n",
      "Requirement already satisfied: cycler>=0.10 in /usr/local/lib/python3.8/dist-packages (from matplotlib>=2.1.0->pycocotools) (0.11.0)\n",
      "Requirement already satisfied: fonttools>=4.22.0 in /usr/local/lib/python3.8/dist-packages (from matplotlib>=2.1.0->pycocotools) (4.38.0)\n",
      "Requirement already satisfied: kiwisolver>=1.0.1 in /usr/local/lib/python3.8/dist-packages (from matplotlib>=2.1.0->pycocotools) (1.4.4)\n",
      "Requirement already satisfied: numpy>=1.19 in /home/domino/.local/lib/python3.8/site-packages (from matplotlib>=2.1.0->pycocotools) (1.24.4)\n",
      "Requirement already satisfied: packaging>=20.0 in /usr/local/lib/python3.8/dist-packages (from matplotlib>=2.1.0->pycocotools) (22.0)\n",
      "Requirement already satisfied: pillow>=6.2.0 in /usr/local/lib/python3.8/dist-packages (from matplotlib>=2.1.0->pycocotools) (9.2.0)\n",
      "Requirement already satisfied: pyparsing>=2.2.1 in /usr/local/lib/python3.8/dist-packages (from matplotlib>=2.1.0->pycocotools) (3.0.9)\n",
      "Requirement already satisfied: python-dateutil>=2.7 in /usr/local/lib/python3.8/dist-packages (from matplotlib>=2.1.0->pycocotools) (2.8.2)\n",
      "Requirement already satisfied: six>=1.5 in /usr/local/lib/python3.8/dist-packages (from python-dateutil>=2.7->matplotlib>=2.1.0->pycocotools) (1.16.0)\n",
      "\n",
      "\u001b[1m[\u001b[0m\u001b[34;49mnotice\u001b[0m\u001b[1;39;49m]\u001b[0m\u001b[39;49m A new release of pip is available: \u001b[0m\u001b[31;49m23.3.1\u001b[0m\u001b[39;49m -> \u001b[0m\u001b[32;49m25.0.1\u001b[0m\n",
      "\u001b[1m[\u001b[0m\u001b[34;49mnotice\u001b[0m\u001b[1;39;49m]\u001b[0m\u001b[39;49m To update, run: \u001b[0m\u001b[32;49mpip3 install --upgrade pip\u001b[0m\n"
     ]
    }
   ],
   "source": [
    "!pip install pycocotools"
   ]
  },
  {
   "cell_type": "code",
   "execution_count": 4,
   "id": "dca4c083-ce83-4b39-aee7-5700a808453c",
   "metadata": {
    "tags": []
   },
   "outputs": [
    {
     "name": "stdout",
     "output_type": "stream",
     "text": [
      "Defaulting to user installation because normal site-packages is not writeable\n",
      "Looking in indexes: https://pypi.org/simple, https://pypi.ngc.nvidia.com\n",
      "Collecting opencv-python-headless==4.12.0.88\n",
      "  Downloading opencv_python_headless-4.12.0.88-cp37-abi3-manylinux2014_x86_64.manylinux_2_17_x86_64.whl.metadata (19 kB)\n",
      "Requirement already satisfied: numpy<2.0 in /home/domino/.local/lib/python3.8/site-packages (from opencv-python-headless==4.12.0.88) (1.24.4)\n",
      "Downloading opencv_python_headless-4.12.0.88-cp37-abi3-manylinux2014_x86_64.manylinux_2_17_x86_64.whl (54.0 MB)\n",
      "\u001b[2K   \u001b[90m━━━━━━━━━━━━━━━━━━━━━━━━━━━━━━━━━━━━━━━━\u001b[0m \u001b[32m54.0/54.0 MB\u001b[0m \u001b[31m245.7 MB/s\u001b[0m eta \u001b[36m0:00:00\u001b[0ma \u001b[36m0:00:01\u001b[0m\n",
      "\u001b[?25hInstalling collected packages: opencv-python-headless\n",
      "Successfully installed opencv-python-headless-4.12.0.88\n",
      "\n",
      "\u001b[1m[\u001b[0m\u001b[34;49mnotice\u001b[0m\u001b[1;39;49m]\u001b[0m\u001b[39;49m A new release of pip is available: \u001b[0m\u001b[31;49m23.3.1\u001b[0m\u001b[39;49m -> \u001b[0m\u001b[32;49m25.0.1\u001b[0m\n",
      "\u001b[1m[\u001b[0m\u001b[34;49mnotice\u001b[0m\u001b[1;39;49m]\u001b[0m\u001b[39;49m To update, run: \u001b[0m\u001b[32;49mpip3 install --upgrade pip\u001b[0m\n"
     ]
    }
   ],
   "source": [
    "!pip install opencv-python-headless==4.12.0.88"
   ]
  },
  {
   "cell_type": "code",
   "execution_count": 5,
   "id": "a71a5438-c1e1-4350-a776-c7c711b1a669",
   "metadata": {
    "tags": []
   },
   "outputs": [
    {
     "name": "stdout",
     "output_type": "stream",
     "text": [
      "Defaulting to user installation because normal site-packages is not writeable\n",
      "Looking in indexes: https://pypi.org/simple, https://pypi.ngc.nvidia.com\n",
      "Requirement already satisfied: onnxruntime-gpu in /home/domino/.local/lib/python3.8/site-packages (1.18.0)\n",
      "Requirement already satisfied: coloredlogs in /home/domino/.local/lib/python3.8/site-packages (from onnxruntime-gpu) (15.0.1)\n",
      "Requirement already satisfied: flatbuffers in /home/domino/.local/lib/python3.8/site-packages (from onnxruntime-gpu) (25.2.10)\n",
      "Requirement already satisfied: numpy>=1.21.6 in /home/domino/.local/lib/python3.8/site-packages (from onnxruntime-gpu) (1.24.4)\n",
      "Requirement already satisfied: packaging in /usr/local/lib/python3.8/dist-packages (from onnxruntime-gpu) (22.0)\n",
      "Requirement already satisfied: protobuf in /usr/local/lib/python3.8/dist-packages (from onnxruntime-gpu) (3.20.1)\n",
      "Requirement already satisfied: sympy in /usr/local/lib/python3.8/dist-packages (from onnxruntime-gpu) (1.11.1)\n",
      "Requirement already satisfied: humanfriendly>=9.1 in /home/domino/.local/lib/python3.8/site-packages (from coloredlogs->onnxruntime-gpu) (10.0)\n",
      "Requirement already satisfied: mpmath>=0.19 in /usr/local/lib/python3.8/dist-packages (from sympy->onnxruntime-gpu) (1.2.1)\n",
      "\n",
      "\u001b[1m[\u001b[0m\u001b[34;49mnotice\u001b[0m\u001b[1;39;49m]\u001b[0m\u001b[39;49m A new release of pip is available: \u001b[0m\u001b[31;49m23.3.1\u001b[0m\u001b[39;49m -> \u001b[0m\u001b[32;49m25.0.1\u001b[0m\n",
      "\u001b[1m[\u001b[0m\u001b[34;49mnotice\u001b[0m\u001b[1;39;49m]\u001b[0m\u001b[39;49m To update, run: \u001b[0m\u001b[32;49mpip3 install --upgrade pip\u001b[0m\n"
     ]
    }
   ],
   "source": [
    "!pip install onnxruntime-gpu"
   ]
  },
  {
   "cell_type": "code",
   "execution_count": 6,
   "id": "5debb04f-49bb-4e80-88b6-e1182a6cde5f",
   "metadata": {},
   "outputs": [
    {
     "name": "stdout",
     "output_type": "stream",
     "text": [
      "Defaulting to user installation because normal site-packages is not writeable\n",
      "Looking in indexes: https://pypi.org/simple, https://pypi.ngc.nvidia.com\n",
      "Requirement already satisfied: onnxruntime in /home/domino/.local/lib/python3.8/site-packages (1.19.2)\n",
      "Requirement already satisfied: coloredlogs in /home/domino/.local/lib/python3.8/site-packages (from onnxruntime) (15.0.1)\n",
      "Requirement already satisfied: flatbuffers in /home/domino/.local/lib/python3.8/site-packages (from onnxruntime) (25.2.10)\n",
      "Requirement already satisfied: numpy>=1.21.6 in /home/domino/.local/lib/python3.8/site-packages (from onnxruntime) (1.24.4)\n",
      "Requirement already satisfied: packaging in /usr/local/lib/python3.8/dist-packages (from onnxruntime) (22.0)\n",
      "Requirement already satisfied: protobuf in /usr/local/lib/python3.8/dist-packages (from onnxruntime) (3.20.1)\n",
      "Requirement already satisfied: sympy in /usr/local/lib/python3.8/dist-packages (from onnxruntime) (1.11.1)\n",
      "Requirement already satisfied: humanfriendly>=9.1 in /home/domino/.local/lib/python3.8/site-packages (from coloredlogs->onnxruntime) (10.0)\n",
      "Requirement already satisfied: mpmath>=0.19 in /usr/local/lib/python3.8/dist-packages (from sympy->onnxruntime) (1.2.1)\n",
      "\n",
      "\u001b[1m[\u001b[0m\u001b[34;49mnotice\u001b[0m\u001b[1;39;49m]\u001b[0m\u001b[39;49m A new release of pip is available: \u001b[0m\u001b[31;49m23.3.1\u001b[0m\u001b[39;49m -> \u001b[0m\u001b[32;49m25.0.1\u001b[0m\n",
      "\u001b[1m[\u001b[0m\u001b[34;49mnotice\u001b[0m\u001b[1;39;49m]\u001b[0m\u001b[39;49m To update, run: \u001b[0m\u001b[32;49mpip3 install --upgrade pip\u001b[0m\n"
     ]
    }
   ],
   "source": [
    "!pip install onnxruntime"
   ]
  },
  {
   "cell_type": "code",
   "execution_count": 7,
   "id": "bbe72593-2493-4680-9707-012fb5ef925d",
   "metadata": {
    "tags": []
   },
   "outputs": [
    {
     "name": "stdout",
     "output_type": "stream",
     "text": [
      "Defaulting to user installation because normal site-packages is not writeable\n",
      "Looking in indexes: https://pypi.org/simple, https://pypi.ngc.nvidia.com\n",
      "Requirement already satisfied: nvidia-cuda-runtime-cu12 in /home/domino/.local/lib/python3.8/site-packages (12.1.105)\n",
      "Requirement already satisfied: nvidia-cublas-cu12 in /home/domino/.local/lib/python3.8/site-packages (12.1.3.1)\n",
      "Requirement already satisfied: nvidia-cudnn-cu12 in /home/domino/.local/lib/python3.8/site-packages (8.9.2.26)\n",
      "Requirement already satisfied: nvidia-cusolver-cu12 in /home/domino/.local/lib/python3.8/site-packages (11.4.5.107)\n",
      "Requirement already satisfied: nvidia-cusparse-cu12 in /home/domino/.local/lib/python3.8/site-packages (12.1.0.106)\n",
      "Requirement already satisfied: nvidia-cufft-cu12 in /home/domino/.local/lib/python3.8/site-packages (11.0.2.54)\n",
      "Requirement already satisfied: nvidia-curand-cu12 in /home/domino/.local/lib/python3.8/site-packages (10.3.2.106)\n",
      "Requirement already satisfied: nvidia-nvjitlink-cu12 in /home/domino/.local/lib/python3.8/site-packages (from nvidia-cusolver-cu12) (12.9.86)\n",
      "\n",
      "\u001b[1m[\u001b[0m\u001b[34;49mnotice\u001b[0m\u001b[1;39;49m]\u001b[0m\u001b[39;49m A new release of pip is available: \u001b[0m\u001b[31;49m23.3.1\u001b[0m\u001b[39;49m -> \u001b[0m\u001b[32;49m25.0.1\u001b[0m\n",
      "\u001b[1m[\u001b[0m\u001b[34;49mnotice\u001b[0m\u001b[1;39;49m]\u001b[0m\u001b[39;49m To update, run: \u001b[0m\u001b[32;49mpip3 install --upgrade pip\u001b[0m\n"
     ]
    }
   ],
   "source": [
    "!pip install nvidia-cuda-runtime-cu12 nvidia-cublas-cu12 nvidia-cudnn-cu12 nvidia-cusolver-cu12 nvidia-cusparse-cu12 nvidia-cufft-cu12 nvidia-curand-cu12"
   ]
  },
  {
   "cell_type": "code",
   "execution_count": null,
   "id": "995fe493-ad9e-4a7f-9fb4-c46eda77f71c",
   "metadata": {
    "tags": []
   },
   "outputs": [],
   "source": [
    "!export LD_LIBRARY_PATH=\"$(python -c 'import site,glob; import sys; print(\":\".join([p for d in site.getsitepackages() for p in glob.glob(d+\"/nvidia/*/lib\")]))')\":${LD_LIBRARY_PATH}"
   ]
  },
  {
   "cell_type": "code",
   "execution_count": null,
   "id": "8763831b-4e78-4b35-8bd2-014c476daad9",
   "metadata": {
    "tags": []
   },
   "outputs": [],
   "source": [
    "import os\n",
    "import shutil\n",
    "\n",
    "import os\n",
    "import zipfile\n",
    "import urllib.request"
   ]
  },
  {
   "cell_type": "code",
   "execution_count": null,
   "id": "e371e59a-5f6b-422c-bdc4-8cfa09b9ee65",
   "metadata": {
    "tags": []
   },
   "outputs": [],
   "source": [
    "datasets_dir = os.environ['DOMINO_DATASETS_DIR']\n",
    "project_ds_folder = os.environ['DOMINO_PROJECT_NAME'] \n",
    "\n",
    "download_base_folder=f\"{datasets_dir}/{project_ds_folder}\"\n",
    "models_folder = \"models\"\n",
    "yolo_model_name=\"yolov8n\"\n",
    "\n",
    "yolo_onnx_file_name=f\"{yolo_model_name}.onnx\""
   ]
  },
  {
   "cell_type": "code",
   "execution_count": null,
   "id": "ead45f5a-01fe-4593-a359-f7955b4692b5",
   "metadata": {
    "tags": []
   },
   "outputs": [],
   "source": [
    "from ultralytics import YOLO\n",
    "def download_yolo(download_base_folder,models_folder,yolo_model_name):    \n",
    "    model = YOLO(yolo_model_name)  # or yolov8s.pt, yolov8m.pt, yolov8l.pt\n",
    "    model.export(format=\"onnx\")\n",
    "    yolo_file_name=f\"{yolo_model_name}.pt\"\n",
    "    shutil.move(yolo_onnx_file_name,f\"{download_base_folder}/{models_folder}/{yolo_onnx_file_name}\")\n",
    "    os.remove(yolo_file_name)"
   ]
  },
  {
   "cell_type": "code",
   "execution_count": null,
   "id": "9031cb32-bd68-4b05-9a10-c54450ced600",
   "metadata": {
    "tags": []
   },
   "outputs": [],
   "source": [
    "download_yolo(download_base_folder,models_folder,yolo_model_name)"
   ]
  },
  {
   "cell_type": "code",
   "execution_count": null,
   "id": "2191c175-c248-4f9d-8161-53d68bdb72db",
   "metadata": {
    "tags": []
   },
   "outputs": [],
   "source": [
    "import os, urllib.request, zipfile, shutil\n",
    "from pycocotools.coco import COCO\n",
    "\n",
    "def download_coco_2017_val_ds(base_dir):\n",
    "    os.makedirs(base_dir, exist_ok=True)\n",
    "\n",
    "    img_set = \"val2017\"\n",
    "    images_url = f\"http://images.cocodataset.org/zips/{img_set}.zip\"\n",
    "    ann_url    = \"http://images.cocodataset.org/annotations/annotations_trainval2017.zip\"\n",
    "\n",
    "    images_zip = os.path.join(base_dir, f\"{img_set}.zip\")\n",
    "    ann_zip    = os.path.join(base_dir, \"annotations_trainval2017.zip\")\n",
    "\n",
    "    # download\n",
    "    if not os.path.exists(images_zip):\n",
    "        print(f\"Downloading {os.path.basename(images_zip)}...\")\n",
    "        urllib.request.urlretrieve(images_url, images_zip)\n",
    "\n",
    "    if not os.path.exists(ann_zip):\n",
    "        print(f\"Downloading {os.path.basename(ann_zip)}...\")\n",
    "        urllib.request.urlretrieve(ann_url, ann_zip)\n",
    "\n",
    "    # extract images\n",
    "    target_images_dir = os.path.join(base_dir, \"images\", img_set)\n",
    "    if not os.path.exists(target_images_dir):\n",
    "        print(f\"Extracting {os.path.basename(images_zip)}...\")\n",
    "        with zipfile.ZipFile(images_zip, \"r\") as zf:\n",
    "            zf.extractall(base_dir)  # creates base_dir/val2017\n",
    "        os.makedirs(os.path.join(base_dir, \"images\"), exist_ok=True)\n",
    "        src = os.path.join(base_dir, img_set)  # base_dir/val2017\n",
    "        if os.path.exists(src):\n",
    "            shutil.move(src, target_images_dir)\n",
    "        else:\n",
    "            # already extracted to correct place by prior run\n",
    "            os.makedirs(target_images_dir, exist_ok=True)\n",
    "\n",
    "    # extract annotations\n",
    "    ann_dir = os.path.join(base_dir, \"annotations\")\n",
    "    ann_json = os.path.join(ann_dir, f\"instances_{img_set}.json\")\n",
    "    if not os.path.exists(ann_json):\n",
    "        print(f\"Extracting {os.path.basename(ann_zip)}...\")\n",
    "        with zipfile.ZipFile(ann_zip, \"r\") as zf:\n",
    "            zf.extractall(base_dir)  # creates base_dir/annotations/*.json\n",
    "    assert os.path.exists(ann_json), f\"Missing {ann_json}\"\n",
    "\n",
    "    # build labels\n",
    "    labels_dir = os.path.join(base_dir, \"labels\", img_set)\n",
    "    if not os.path.exists(labels_dir):\n",
    "        print(f\"Converting COCO → YOLO labels into {labels_dir} ...\")\n",
    "        os.makedirs(labels_dir, exist_ok=True)\n",
    "\n",
    "        coco = COCO(ann_json)\n",
    "        cats = coco.loadCats(coco.getCatIds())\n",
    "        # COCO category ids are not 0..79; map to contiguous 0-based\n",
    "        catid2cls = {c[\"id\"]: i for i, c in enumerate(cats)}\n",
    "\n",
    "        img_ids = coco.getImgIds()\n",
    "        for img in coco.loadImgs(img_ids):\n",
    "            w, h = img[\"width\"], img[\"height\"]\n",
    "            ann_ids = coco.getAnnIds(imgIds=img[\"id\"], iscrowd=False)\n",
    "            anns = coco.loadAnns(ann_ids)\n",
    "\n",
    "            lines = []\n",
    "            for a in anns:\n",
    "                x, y, bw, bh = a[\"bbox\"]\n",
    "                if bw <= 0 or bh <= 0:\n",
    "                    continue\n",
    "                x_c = (x + bw / 2) / w\n",
    "                y_c = (y + bh / 2) / h\n",
    "                bw_n = bw / w\n",
    "                bh_n = bh / h\n",
    "                cls = catid2cls[a[\"category_id\"]]\n",
    "                lines.append(f\"{cls} {x_c:.6f} {y_c:.6f} {bw_n:.6f} {bh_n:.6f}\")\n",
    "\n",
    "            label_path = os.path.join(labels_dir, os.path.splitext(img[\"file_name\"])[0] + \".txt\")\n",
    "            with open(label_path, \"w\") as f:\n",
    "                f.write(\"\\n\".join(lines))\n",
    "\n",
    "    print(\"COCO 2017 val images, annotations, and YOLO labels are ready.\")\n"
   ]
  },
  {
   "cell_type": "code",
   "execution_count": null,
   "id": "0d8bcee5-4cd5-4a4f-9de3-d54ddcfd58b3",
   "metadata": {
    "tags": []
   },
   "outputs": [],
   "source": [
    "base_coco_dir = f\"{download_base_folder}/coco\""
   ]
  },
  {
   "cell_type": "code",
   "execution_count": null,
   "id": "7803e3c6-7028-48de-95cc-0bbb83293b23",
   "metadata": {
    "tags": []
   },
   "outputs": [],
   "source": [
    "prepare_coco_yolo(base_coco_dir)"
   ]
  },
  {
   "cell_type": "code",
   "execution_count": null,
   "id": "38738cf7-7bfe-4887-9601-1fdfd7033dd3",
   "metadata": {
    "tags": []
   },
   "outputs": [],
   "source": [
    "model_path = f\"{download_base_folder}/{models_folder}/{yolo_onnx_file_name}\"\n",
    "print(model_path)\n",
    "base_folder=f\"{download_base_folder}/coco\"\n"
   ]
  },
  {
   "cell_type": "code",
   "execution_count": null,
   "id": "3bfe5b02-f635-4baa-9c26-48b6ed76dc6f",
   "metadata": {
    "tags": []
   },
   "outputs": [],
   "source": [
    "domino_user_name = os.environ['DOMINO_USER_NAME']\n",
    "experiment_name=f\"cv-comparison-{domino_user_name}\"\n",
    "metrics = evaluate_model(f\"{download_base_folder}/coco\",model_path,limit_images=10,experiment_name=experiment_name,device=\"gpu\")\n"
   ]
  },
  {
   "cell_type": "code",
   "execution_count": null,
   "id": "a0938d31-d500-48dc-9c33-6b5440b85395",
   "metadata": {
    "tags": []
   },
   "outputs": [],
   "source": [
    "print(metrics)\n"
   ]
  },
  {
   "cell_type": "code",
   "execution_count": null,
   "id": "478ad419-9553-49af-a13d-9169f33fefce",
   "metadata": {},
   "outputs": [],
   "source": []
  }
 ],
 "metadata": {
  "kernelspec": {
   "display_name": "Python 3 (ipykernel)",
   "language": "python",
   "name": "python3"
  },
  "language_info": {
   "codemirror_mode": {
    "name": "ipython",
    "version": 3
   },
   "file_extension": ".py",
   "mimetype": "text/x-python",
   "name": "python",
   "nbconvert_exporter": "python",
   "pygments_lexer": "ipython3",
   "version": "3.8.10"
  }
 },
 "nbformat": 4,
 "nbformat_minor": 5
}
